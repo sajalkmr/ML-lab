{
 "cells": [
  {
   "cell_type": "code",
   "execution_count": null,
   "id": "4220d27d",
   "metadata": {},
   "outputs": [],
   "source": [
    "import pandas as pd\n",
    "from sklearn.model_selection import train_test_split\n",
    "from sklearn.linear_model import LinearRegression\n",
    "from sklearn.preprocessing import PolynomialFeatures\n",
    "from sklearn.metrics import mean_squared_error, r2_score\n",
    "from sklearn.datasets import fetch_openml\n",
    "import matplotlib.pyplot as plt\n",
    "import numpy as np\n",
    "\n",
    "# Boston Housing Linear Regression\n",
    "df = pd.read_csv(\"BostonHousing.csv\")\n",
    "x = df[['indus', 'nox', 'rm', 'tax', 'ptratio', 'lstat']]\n",
    "y = df['medv']\n",
    "x_train, x_test, y_train, y_test = train_test_split(x, y, test_size=0.2)\n",
    "model = LinearRegression().fit(x_train, y_train)\n",
    "pred = model.predict(x_test)\n",
    "print(\"Boston RMSE:\", np.sqrt(mean_squared_error(y_test, pred)))\n",
    "plt.scatter(y_test, pred)\n",
    "plt.xlabel('Actual'); plt.ylabel('Predicted'); plt.title('Boston Housing'); plt.show()\n",
    "\n",
    "# Auto MPG Polynomial Regression\n",
    "data = fetch_openml(\"autoMpg\", version=1, as_frame=True)\n",
    "df2 = data.frame.dropna(subset=[\"horsepower\"])\n",
    "x2 = df2[[\"horsepower\"]].astype(float)\n",
    "y2 = data.target.loc[df2.index].astype(float)\n",
    "x2_train, x2_test, y2_train, y2_test = train_test_split(x2, y2, test_size=0.2)\n",
    "poly = PolynomialFeatures(3)\n",
    "x2_train_poly = poly.fit_transform(x2_train)\n",
    "model2 = LinearRegression().fit(x2_train_poly, y2_train)\n",
    "pred2 = model2.predict(poly.transform(x2_test))\n",
    "print(\"Auto MPG R²:\", r2_score(y2_test, pred2))\n",
    "plt.scatter(x2_test, y2_test, alpha=0.6)\n",
    "x_plot = np.linspace(x2_test.min(), x2_test.max(), 100)\n",
    "plt.plot(x_plot, model2.predict(poly.transform(x_plot)), c=\"red\")\n",
    "plt.xlabel(\"Horsepower\"); plt.ylabel(\"MPG\"); plt.title(\"Auto MPG Poly Regression\"); plt.show()\n"
   ]
  }
 ],
 "metadata": {
  "kernelspec": {
   "display_name": ".venv",
   "language": "python",
   "name": "python3"
  },
  "language_info": {
   "codemirror_mode": {
    "name": "ipython",
    "version": 3
   },
   "file_extension": ".py",
   "mimetype": "text/x-python",
   "name": "python",
   "nbconvert_exporter": "python",
   "pygments_lexer": "ipython3",
   "version": "3.13.3"
  }
 },
 "nbformat": 4,
 "nbformat_minor": 5
}
