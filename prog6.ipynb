import numpy as np
import matplotlib.pyplot as plt

# Data
x = np.array(range(3, 33))[:, None]
y = np.array([1,2,1,2,1,1,3,4,5,4,5,6,5,6,7,8,9,10,11,11,12,11,11,10,12,11,11,10,9,8])
tau = 0.5

# Test points
x_test = np.linspace(3, 32, 300)[:, None]
y_test = []

# Add intercept to x
X = np.hstack((np.ones_like(x), x))

for xt in x_test:
    W = np.diag(np.exp(-((x - xt)**2)[:, 0] / (2 * tau**2)))
    theta = np.linalg.pinv(X.T @ W @ X) @ (X.T @ W @ y)
    y_test.append([1, xt[0]] @ theta)

plt.scatter(x, y, color='blue')
plt.plot(x_test, y_test, color='red')
plt.show()
