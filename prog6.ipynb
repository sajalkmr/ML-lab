{
 "cells": [
  {
   "cell_type": "code",
   "execution_count": null,
   "metadata": {},
   "outputs": [],
   "source": [
    "import numpy as np\n",
    "import matplotlib.pyplot as plt\n",
    "\n",
    "x = np.array(range(3, 33))[:, None]\n",
    "y = np.array([1,2,1,2,1,1,3,4,5,4,5,6,5,6,7,8,9,10,11,11,12,11,11,10,12,11,11,10,9,8])\n",
    "tau = 0.5\n",
    "\n",
    "X = np.hstack((np.ones_like(x), x))\n",
    "x_test = np.linspace(3, 32, 300)[:, None]\n",
    "y_test = []\n",
    "\n",
    "for xt in x_test:\n",
    "    W = np.diag(np.exp(-((x - xt)**2)[:,0] / (2 * tau**2)))\n",
    "    theta = np.linalg.pinv(X.T @ W @ X) @ (X.T @ W @ y)\n",
    "    y_test.append([1, xt[0]] @ theta)\n",
    "\n",
    "plt.scatter(x, y)\n",
    "plt.plot(x_test, y_test, 'r')\n",
    "plt.grid()\n",
    "plt.show()\n"
   ]
  }
 ],
 "metadata": {
  "kernelspec": {
   "display_name": ".venv",
   "language": "python",
   "name": "python3"
  },
  "language_info": {
   "codemirror_mode": {
    "name": "ipython",
    "version": 3
   },
   "file_extension": ".py",
   "mimetype": "text/x-python",
   "name": "python",
   "nbconvert_exporter": "python",
   "pygments_lexer": "ipython3",
   "version": "3.13.3"
  }
 },
 "nbformat": 4,
 "nbformat_minor": 5
}
