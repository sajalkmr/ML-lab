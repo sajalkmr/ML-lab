{
 "cells": [
  {
   "cell_type": "code",
   "execution_count": null,
   "id": "ac7a2a52-1998-42d0-8a78-4a625e56984f",
   "metadata": {},
   "outputs": [],
   "source": [
    "import matplotlib.pyplot as plt\n",
    "from sklearn import datasets\n",
    "from sklearn.decomposition import PCA\n",
    "from sklearn.preprocessing import StandardScaler\n",
    "import pandas as pd\n",
    "\n",
    "data = datasets.load_iris()\n",
    "x = StandardScaler().fit_transform(data.data)\n",
    "pca = PCA(2)\n",
    "df = pd.DataFrame(pca.fit_transform(x), columns=['PC1','PC2'])\n",
    "df['t'] = data.target\n",
    "\n",
    "for t, c, n in zip(range(3), 'rgb', data.target_names):\n",
    "    s = df[df.t == t]\n",
    "    plt.scatter(s.PC1, s.PC2, color=c, alpha=0.6, label=n)\n",
    "\n",
    "plt.title('PCA of Iris Dataset')\n",
    "plt.xlabel('PC1')\n",
    "plt.ylabel('PC2')\n",
    "plt.legend()\n",
    "plt.grid()\n",
    "plt.show()\n",
    "\n",
    "print('Eigen vectors:\\n', pca.components_)\n",
    "print('Explained variance ratio:', pca.explained_variance_ratio_)\n"
   ]
  }
 ],
 "metadata": {
  "kernelspec": {
   "display_name": "Python [conda env:base] *",
   "language": "python",
   "name": "conda-base-py"
  },
  "language_info": {
   "codemirror_mode": {
    "name": "ipython",
    "version": 3
   },
   "file_extension": ".py",
   "mimetype": "text/x-python",
   "name": "python",
   "nbconvert_exporter": "python",
   "pygments_lexer": "ipython3",
   "version": "3.12.7"
  }
 },
 "nbformat": 4,
 "nbformat_minor": 5
}
