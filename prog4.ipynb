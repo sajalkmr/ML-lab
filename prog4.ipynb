{
 "cells": [
  {
   "cell_type": "code",
   "execution_count": null,
   "id": "c84dd480-f65b-4541-a4c3-00ee35a06b1b",
   "metadata": {},
   "outputs": [],
   "source": [
    "import pandas as pd\n",
    "\n",
    "data = {\n",
    "    \"sky\": [\"sunny\",\"sunny\",\"rainy\",\"sunny\"],\n",
    "    \"airtemp\": [\"warm\",\"warm\",\"cold\",\"warm\"],\n",
    "    \"humidity\": [\"Normal\",\"High\",\"High\",\"High\"],\n",
    "    \"wind\": [\"strong\",\"strong\",\"strong\",\"strong\"],\n",
    "    \"water\": [\"warm\",\"warm\",\"warm\",\"cool\"],\n",
    "    \"forecast\": [\"same\",\"same\",\"change\",\"change\"],\n",
    "    \"playgame\": [\"yes\",\"yes\",\"no\",\"yes\"]\n",
    "}\n",
    "\n",
    "pd.DataFrame(data).to_csv(\"training_data.csv\", index=False)\n",
    "df = pd.read_csv(\"training_data.csv\")\n",
    "\n",
    "h = None\n",
    "for i, row in df.iterrows():\n",
    "    if row.iloc[-1] == \"yes\":\n",
    "        if h is None:\n",
    "            h = list(row[:-1])\n",
    "        else:\n",
    "            for j in range(len(h)):\n",
    "                if h[j] != row[j]:\n",
    "                    h[j] = \"?\"\n",
    "        print(\"After Training Example\", i, \": Hypothesis =\", h)\n",
    "\n",
    "print(\"\\nFinal Hypothesis:\", h)\n"
   ]
  }
 ],
 "metadata": {
  "kernelspec": {
   "display_name": "Python [conda env:base] *",
   "language": "python",
   "name": "conda-base-py"
  },
  "language_info": {
   "codemirror_mode": {
    "name": "ipython",
    "version": 3
   },
   "file_extension": ".py",
   "mimetype": "text/x-python",
   "name": "python",
   "nbconvert_exporter": "python",
   "pygments_lexer": "ipython3",
   "version": "3.12.7"
  }
 },
 "nbformat": 4,
 "nbformat_minor": 5
}
