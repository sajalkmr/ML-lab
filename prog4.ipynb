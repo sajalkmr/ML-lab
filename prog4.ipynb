{
 "cells": [
  {
   "cell_type": "code",
   "execution_count": 1,
   "id": "c84dd480-f65b-4541-a4c3-00ee35a06b1b",
   "metadata": {},
   "outputs": [
    {
     "name": "stdout",
     "output_type": "stream",
     "text": [
      "CSV File 'training_data.csv' has been created successfully!\n",
      "After Training Example 0 : Hypothesis = ['sunny' 'warm' 'Normal' 'strong' 'warm' 'same']\n",
      "After Training Example 1 : Hypothesis = ['sunny' 'warm' '?' 'strong' 'warm' 'same']\n",
      "After Training Example 3 : Hypothesis = ['sunny' 'warm' '?' 'strong' '?' '?']\n",
      "\n",
      "Final Hypothesis\n",
      "h4 = <sunny,warm,?,strong,?,?>\n"
     ]
    }
   ],
   "source": [
    "import pandas as pd\n",
    "\n",
    "data = {\n",
    "    \"sky\":[\"sunny\",\"sunny\",\"rainy\",\"sunny\"],\n",
    "    \"airtemp\":[\"warm\",\"warm\",\"cold\",\"warm\"],\n",
    "    \"humidity\":[\"Normal\",\"High\",\"High\",\"High\"],\n",
    "    \"wind\":[\"strong\",\"strong\",\"strong\",\"strong\"],\n",
    "    \"water\":[\"warm\",\"warm\",\"warm\",\"cool\"],\n",
    "    \"forecast\":[\"same\",\"same\",\"change\",\"change\"],\n",
    "    \"playgame\":[\"yes\",\"yes\",\"no\",\"yes\"]\n",
    "}\n",
    "\n",
    "df = pd.DataFrame(data)\n",
    "file_path=\"training_data.csv\"\n",
    "df.to_csv(file_path,index=False)\n",
    "print(f\"CSV File '{file_path}' has been created successfully!\")\n",
    "\n",
    "def find_s_algorithm(data):\n",
    "    features = data.iloc[:,:-1].values\n",
    "    labels = data.iloc[:,-1].values\n",
    "\n",
    "    hypothesis = None\n",
    "\n",
    "    for i,label in enumerate(labels):\n",
    "        if label==\"yes\":\n",
    "            if hypothesis is None:\n",
    "                hypothesis = features[i].copy()\n",
    "            else:\n",
    "                for j in range(len(hypothesis)):\n",
    "                    if hypothesis[j]!=features[i][j]:\n",
    "                        hypothesis[j]='?'\n",
    "            print(f\"After Training Example {i} : Hypothesis = {hypothesis}\")\n",
    "    return hypothesis\n",
    "\n",
    "data = pd.read_csv(file_path)\n",
    "final_hypothesis=find_s_algorithm(data)\n",
    "print(\"\\nFinal Hypothesis\")\n",
    "print(f\"h4 = <{','.join(final_hypothesis)}>\")\n",
    "\n"
   ]
  },
  {
   "cell_type": "code",
   "execution_count": null,
   "id": "f5755678-3bef-40ec-8257-24895d499b28",
   "metadata": {},
   "outputs": [],
   "source": []
  }
 ],
 "metadata": {
  "kernelspec": {
   "display_name": "Python [conda env:base] *",
   "language": "python",
   "name": "conda-base-py"
  },
  "language_info": {
   "codemirror_mode": {
    "name": "ipython",
    "version": 3
   },
   "file_extension": ".py",
   "mimetype": "text/x-python",
   "name": "python",
   "nbconvert_exporter": "python",
   "pygments_lexer": "ipython3",
   "version": "3.12.7"
  }
 },
 "nbformat": 4,
 "nbformat_minor": 5
}
