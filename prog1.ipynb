{
 "cells": [
  {
   "cell_type": "code",
   "execution_count": null,
   "id": "8015fb99-0877-4cbc-a6a5-b8c2e266de3b",
   "metadata": {},
   "outputs": [],
   "source": [
    "import pandas as pd\n",
    "import matplotlib.pyplot as plt\n",
    "import seaborn as sns\n",
    "from sklearn.datasets import fetch_california_housing\n",
    "\n",
    "data = fetch_california_housing(as_frame=True).frame\n",
    "print(data.head())\n",
    "\n",
    "def plot_hist(d):\n",
    "    d.hist(bins=30,edgecolor = 'black', figsize=(12,10))\n",
    "    plt.show()\n",
    "\n",
    "def plot_box(d):\n",
    "    plt.figure(figsize=(14,10))\n",
    "    for i, c in enumerate(d.columns, 1):\n",
    "        plt.subplot(3,3,i)\n",
    "        sns.boxplot(y=d[c])\n",
    "        plt.title(c)\n",
    "    plt.tight_layout()\n",
    "    plt.show()\n",
    "\n",
    "def stats(d):\n",
    "    for c in d.columns:\n",
    "        q1, q3 = d[c].quantile([0.25, 0.75])\n",
    "        iqr = q3 - q1\n",
    "        lower_bound = q1-1.5*iqr\n",
    "        upper_bound = q3+1.5*iqr\n",
    "        out = d[(d[c] < lower_bound) | (d[c] > upper_bound)]\n",
    "        print(f\"\\n{c} | Mean: {d[c].mean():.2f}, Median: {d[c].median():.2f}, Std: {d[c].std():.2f}, Outliers: {len(out)}\")\n",
    "\n",
    "plot_hist(data)\n",
    "plot_box(data)\n",
    "stats(data)\n"
   ]
  }
 ],
 "metadata": {
  "kernelspec": {
   "display_name": "Python 3",
   "language": "python",
   "name": "python3"
  },
  "language_info": {
   "codemirror_mode": {
    "name": "ipython",
    "version": 3
   },
   "file_extension": ".py",
   "mimetype": "text/x-python",
   "name": "python",
   "nbconvert_exporter": "python",
   "pygments_lexer": "ipython3",
   "version": "3.13.3"
  }
 },
 "nbformat": 4,
 "nbformat_minor": 5
}
