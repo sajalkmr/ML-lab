{
 "cells": [
  {
   "cell_type": "code",
   "execution_count": null,
   "id": "85a34bb6-d3b6-4047-972a-060d909bade6",
   "metadata": {},
   "outputs": [],
   "source": [
    "import numpy as np\n",
    "from sklearn.neighbors import KNeighborsClassifier\n",
    "\n",
    "np.random.seed(42)\n",
    "x = np.random.rand(100).reshape(-1, 1)\n",
    "y = [1 if v <= 0.5 else 2 for v in x[:50]]\n",
    "\n",
    "x_train, x_test = x[:50], x[50:]\n",
    "\n",
    "print(\"K-NN Classification Results :\")\n",
    "for k in [1, 2, 3, 4, 5, 20, 30]:\n",
    "    model = KNeighborsClassifier(k).fit(x_train, y)\n",
    "    print(f\"\\nK = {k}\\nPredicted Classes : {model.predict(x_test)}\")\n"
   ]
  }
 ],
 "metadata": {
  "kernelspec": {
   "display_name": "Python [conda env:base] *",
   "language": "python",
   "name": "conda-base-py"
  },
  "language_info": {
   "codemirror_mode": {
    "name": "ipython",
    "version": 3
   },
   "file_extension": ".py",
   "mimetype": "text/x-python",
   "name": "python",
   "nbconvert_exporter": "python",
   "pygments_lexer": "ipython3",
   "version": "3.12.7"
  }
 },
 "nbformat": 4,
 "nbformat_minor": 5
}
